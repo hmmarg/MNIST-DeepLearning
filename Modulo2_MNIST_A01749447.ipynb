{
  "nbformat": 4,
  "nbformat_minor": 0,
  "metadata": {
    "colab": {
      "provenance": [],
      "collapsed_sections": []
    },
    "kernelspec": {
      "name": "python3",
      "display_name": "Python 3"
    },
    "language_info": {
      "name": "python"
    }
  },
  "cells": [
    {
      "cell_type": "markdown",
      "source": [
        "#Momento de Retroalimentación: Módulo 2 Implementación de un modelo de deep learning. (Portafolio Implementación\n",
        "#Hayali Monserrat Marina Garduño"
      ],
      "metadata": {
        "id": "lnu1Uc50Xs0h"
      }
    },
    {
      "cell_type": "markdown",
      "source": [
        "Se utilizó una red neuronal con distintas capas para reconocimiento de imágenes, en este caso números. "
      ],
      "metadata": {
        "id": "cSyapBeiazDr"
      }
    },
    {
      "cell_type": "code",
      "execution_count": 1,
      "metadata": {
        "id": "Qo1B79LGnIwh"
      },
      "outputs": [],
      "source": [
        "#Importamos lubrerías\n",
        "import numpy as np\n",
        "from tensorflow import keras\n",
        "from tensorflow.keras import layers, losses, optimizers"
      ]
    },
    {
      "cell_type": "code",
      "source": [
        "#Cargamos el data-set\n",
        "(x_train, y_train), (x_test, y_test) = keras.datasets.mnist.load_data()\n",
        "\n",
        "#Se cambia la forma de los datos, pasamos de 0-255, a 0-1, (normalizamos por min-max)\n",
        "x_train = np.expand_dims(x_train.astype(\"float32\")/255, -1)\n",
        "x_test = np.expand_dims(x_test.astype(\"float32\")/255, -1)\n",
        "\n",
        "#Damos el número de clases (opciones) a las que puede pertenecer cada número\n",
        "num_classes = 10\n",
        "#Definimos la forma de nuestro input(28x28x1)\n",
        "input_shape = x_train[0].shape\n",
        "\n",
        "#Hacemos one-hot-encoding para que nos diga que es cada imagen\n",
        "y_train = keras.utils.to_categorical(y_train, num_classes)\n",
        "y_test = keras.utils.to_categorical(y_test, num_classes)"
      ],
      "metadata": {
        "id": "TfAlwvJioizU",
        "colab": {
          "base_uri": "https://localhost:8080/"
        },
        "outputId": "98b3e7bb-d65a-4cbb-8866-ad55820fbf7c"
      },
      "execution_count": 2,
      "outputs": [
        {
          "output_type": "stream",
          "name": "stdout",
          "text": [
            "Downloading data from https://storage.googleapis.com/tensorflow/tf-keras-datasets/mnist.npz\n",
            "11490434/11490434 [==============================] - 0s 0us/step\n"
          ]
        }
      ]
    },
    {
      "cell_type": "code",
      "source": [
        "#Armamos nuestro modelo\n",
        "\n",
        "#Usamos keras para crear el modelo\n",
        "model = keras.Sequential(\n",
        "    [\n",
        "        keras.Input(shape=input_shape), #Le decimos que la primera capa es de la variable creada previamente (input_shape)\n",
        "        layers.Conv2D(32, kernel_size=(3, 3), activation=\"selu\"), #Capa convolucional con función de activación selu\n",
        "        layers.Dense(50, activation=\"relu\"),#Capa densa de 50 neuronas con función de activación relu\n",
        "        layers.Flatten(),\n",
        "        layers.Dense(num_classes, activation=\"softmax\"),#Última capa de salida que usa la función softmax (nos divide la probabilidad entre todas las opciones)\n",
        "    ]\n",
        ")"
      ],
      "metadata": {
        "id": "q-CS20I4pEyZ"
      },
      "execution_count": 4,
      "outputs": []
    },
    {
      "cell_type": "code",
      "source": [
        "batch_size = 128\n",
        "epochs = 2\n",
        "\n",
        "#Loss function utilizada:Poisoson\n",
        "#Se utilizó está ya que con ella se obtuvieron mejores resultados en menos epochs\n",
        "poisson_lf = losses.Poisson(\n",
        "    reduction=\"auto\", name=\"poisson\"\n",
        ")\n",
        "\n",
        "#Para la función de optimización se utilizó la función Adam, ya que es de las más simples pero da buenos resultados\n",
        "adam_opt = optimizers.Adam(\n",
        "    learning_rate=0.001, #Se escogió este learning rate , ya que más tarda más tiempo y más grande se pierde precisión\n",
        "    beta_1=0.9,\n",
        "    beta_2=0.999,\n",
        "    epsilon=1e-07,\n",
        "    amsgrad=False,\n",
        "    name=\"Adam\"\n",
        ")\n",
        "\n",
        "#Compilamos el modelo con los hiperparámetros previos\n",
        "model.compile(loss=poisson_lf, optimizer=adam_opt, metrics=[\"accuracy\"])\n",
        "\n",
        "#Entrenamos el modelo\n",
        "model.fit(x_train, y_train, batch_size=batch_size, epochs=epochs, validation_split=0.1)"
      ],
      "metadata": {
        "colab": {
          "base_uri": "https://localhost:8080/"
        },
        "id": "lXoO8ee5pJPZ",
        "outputId": "e6858ff6-83ad-41f1-912e-bf0c92cb1d02"
      },
      "execution_count": null,
      "outputs": [
        {
          "output_type": "stream",
          "name": "stdout",
          "text": [
            "Epoch 1/2\n",
            "422/422 [==============================] - 43s 98ms/step - loss: 0.1216 - accuracy: 0.9380 - val_loss: 0.1079 - val_accuracy: 0.9775\n",
            "Epoch 2/2\n",
            "422/422 [==============================] - 44s 105ms/step - loss: 0.1068 - accuracy: 0.9797 - val_loss: 0.1059 - val_accuracy: 0.9842\n"
          ]
        },
        {
          "output_type": "execute_result",
          "data": {
            "text/plain": [
              "<keras.callbacks.History at 0x7fae0fde79d0>"
            ]
          },
          "metadata": {},
          "execution_count": 4
        }
      ]
    },
    {
      "cell_type": "code",
      "source": [
        "#Muestra los resultados del modelo y lo mandamos imprimir\n",
        "score = model.evaluate(x_test, y_test, verbose=0)\n",
        "print(\"Test loss:\", score[0])\n",
        "print(\"Test accuracy:\", score[1])"
      ],
      "metadata": {
        "id": "7iOQbIlprWlr",
        "outputId": "e6606ee9-4707-4b79-a318-62c8f269a36c",
        "colab": {
          "base_uri": "https://localhost:8080/"
        }
      },
      "execution_count": null,
      "outputs": [
        {
          "output_type": "stream",
          "name": "stdout",
          "text": [
            "Test loss: 0.1063544824719429\n",
            "Test accuracy: 0.980400025844574\n"
          ]
        }
      ]
    }
  ]
}